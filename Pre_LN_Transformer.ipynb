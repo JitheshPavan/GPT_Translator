{
  "cells": [
    {
      "cell_type": "code",
      "execution_count": 3,
      "metadata": {
        "id": "feLUw4U_5Ygs"
      },
      "outputs": [],
      "source": [
        "import torch\n",
        "import torch.nn as nn\n",
        "import torch.nn.functional as F\n",
        "import matplotlib.pyplot as plt"
      ]
    },
    {
      "cell_type": "code",
      "execution_count": 1,
      "metadata": {
        "id": "uGFxrfjK6CcU"
      },
      "outputs": [],
      "source": [
        "\n",
        "\n",
        "# Define the model parameters\n",
        "h = 8  # Number of self-attention heads\n",
        "d_k = 64  # Dimensionality of the linearly projected queries and keys # The dimension is divided among the heads.  Thus every head key value will be d_k/h= 8\n",
        "d_v = 64  # Dimensionality of the linearly projected values\n",
        "d_model = 512  # Dimensionality of model layers' outputs\n",
        "d_ff = 2048  # Dimensionality of the inner fully connected layer # Usually 4* d_model\n",
        "n = 6  # Number of layers in the encoder stack\n",
        "batch_size = 64\n",
        "beta_1 = 0.9\n",
        "beta_2 = 0.98\n",
        "epsilon = 1e-9\n",
        "dropout_rate = 0.1\n"
      ]
    },
    {
      "cell_type": "code",
      "execution_count": 4,
      "metadata": {
        "id": "LON-hvqOAMPj"
      },
      "outputs": [],
      "source": [
        "device= torch.device(\"cuda\" if torch.cuda.is_available() else \"cpu\")"
      ]
    },
    {
      "cell_type": "markdown",
      "metadata": {
        "id": "8IjXJAO858st"
      },
      "source": [
        "# Data"
      ]
    },
    {
      "cell_type": "markdown",
      "source": [
        "Data preprocessing is done with Tensorflow because it is cleaner."
      ],
      "metadata": {
        "id": "JsYkqO7wO18P"
      }
    },
    {
      "cell_type": "code",
      "source": [
        "# Downloading the data"
      ],
      "metadata": {
        "id": "I1erbYKwtr4l"
      },
      "execution_count": 5,
      "outputs": []
    },
    {
      "cell_type": "code",
      "source": [
        "import gdown\n",
        "\n",
        "url = f\"https://drive.google.com/uc?id=1Lz7Xjx4iwp_OGBOpO2VnzJoiVk20YbmT\"\n",
        "gdown.download(url, None, quiet=False)"
      ],
      "metadata": {
        "id": "FNh7doFBtehM",
        "outputId": "f00f557c-1563-4ef3-f290-0d9335254673",
        "colab": {
          "base_uri": "https://localhost:8080/",
          "height": 105
        }
      },
      "execution_count": 6,
      "outputs": [
        {
          "output_type": "stream",
          "name": "stderr",
          "text": [
            "Downloading...\n",
            "From: https://drive.google.com/uc?id=1Lz7Xjx4iwp_OGBOpO2VnzJoiVk20YbmT\n",
            "To: /content/english-german-both.pkl\n",
            "100%|██████████| 29.6M/29.6M [00:00<00:00, 38.4MB/s]\n"
          ]
        },
        {
          "output_type": "execute_result",
          "data": {
            "text/plain": [
              "'english-german-both.pkl'"
            ],
            "application/vnd.google.colaboratory.intrinsic+json": {
              "type": "string"
            }
          },
          "metadata": {},
          "execution_count": 6
        }
      ]
    },
    {
      "cell_type": "code",
      "execution_count": 7,
      "metadata": {
        "id": "n81t31TrSSP9"
      },
      "outputs": [],
      "source": [
        "import tensorflow\n",
        "from random import shuffle\n",
        "from pickle import load\n",
        "import numpy as np\n",
        "from typing import Tuple\n",
        "\n",
        "class PrepareDataset:\n",
        "    def __init__(self) -> None:\n",
        "      self.train_split: float = 0.9  # Ratio of the training data split\n",
        "\n",
        "    # Fit a tokenizer\n",
        "    def create_tokenizer(self, dataset: np.ndarray) -> tensorflow.keras.preprocessing.text.Tokenizer:\n",
        "      tokenizer = tensorflow.keras.preprocessing.text.Tokenizer()\n",
        "      tokenizer.fit_on_texts(dataset.tolist())  # Convert to list of strings\n",
        "      return tokenizer\n",
        "\n",
        "    # Encode and pad the input sequences\n",
        "    def encode_pad( self, dataset: np.ndarray, tokenizer: tensorflow.keras.preprocessing.text.Tokenizer,\n",
        "      seq_length: int ) -> tensorflow.Tensor:\n",
        "      x = tokenizer.texts_to_sequences(dataset.tolist())  # Convert to list of strings\n",
        "      x = tensorflow.keras.preprocessing.sequence.pad_sequences(x, maxlen=seq_length, padding='post')\n",
        "      x = tensorflow.convert_to_tensor(x, dtype=tensorflow.int64)\n",
        "      return x\n",
        "\n",
        "    def prepare_tokenizer(self, partial_dataset: np.ndarray) -> Tuple[tensorflow.keras.preprocessing.text.Tokenizer, int, int]:\n",
        "      tokenizer = self.create_tokenizer(partial_dataset)\n",
        "      vocab_size = len(tokenizer.word_index) + 1\n",
        "      max_seq_length = max(len(seq.split()) for seq in partial_dataset.tolist())\n",
        "      return tokenizer, max_seq_length, vocab_size\n",
        "\n",
        "    def __call__(self, filename: str) -> Tuple[\n",
        "        tensorflow.Tensor, tensorflow.Tensor, tensorflow.Tensor, tensorflow.Tensor,\n",
        "        int, int, int, int,\n",
        "        tensorflow.keras.preprocessing.text.Tokenizer, tensorflow.keras.preprocessing.text.Tokenizer\n",
        "    ]:\n",
        "      # Load a clean dataset\n",
        "      dataset: np.ndarray = load(open(filename, 'rb'))  # Dataset is a numpy.ndarray\n",
        "      n_sentences = len(dataset)\n",
        "      dataset[:, 0] = [\"<START> \" + seq + \" <EOS>\" for seq in dataset[:, 0]]\n",
        "      dataset[:, 1] = [\"<START> \" + seq + \" <EOS>\" for seq in dataset[:, 1]]\n",
        "\n",
        "      # Random shuffle the dataset\n",
        "      shuffle(dataset)\n",
        "\n",
        "      # Split the dataset into training and validation sets\n",
        "      train = dataset[:int(n_sentences * self.train_split)]\n",
        "      val = dataset[int(n_sentences * self.train_split):]\n",
        "\n",
        "      # Prepare tokenizer for the encoder input\n",
        "      enc_tokenizer, enc_seq_length, enc_vocab_size = self.prepare_tokenizer(dataset[:, 0])\n",
        "      dec_tokenizer, dec_seq_length, dec_vocab_size = self.prepare_tokenizer(dataset[:, 1])\n",
        "\n",
        "      # Encode and pad the training input\n",
        "      trainX = self.encode_pad(train[:, 0], enc_tokenizer, enc_seq_length)\n",
        "      trainY = self.encode_pad(train[:, 1], dec_tokenizer, dec_seq_length)\n",
        "\n",
        "      # Encode and pad the validation input\n",
        "      valX = self.encode_pad(val[:, 0], enc_tokenizer, enc_seq_length)\n",
        "      valY = self.encode_pad(val[:, 1], dec_tokenizer, dec_seq_length)\n",
        "\n",
        "      return (\n",
        "          trainX, trainY, valX, valY,\n",
        "          enc_seq_length, dec_seq_length,\n",
        "          enc_vocab_size, dec_vocab_size,\n",
        "          enc_tokenizer, dec_tokenizer\n",
        "      )\n"
      ]
    },
    {
      "cell_type": "code",
      "execution_count": 8,
      "metadata": {
        "id": "VbV_V4_eDQnx"
      },
      "outputs": [],
      "source": [
        "dataset_manipulator=PrepareDataset()\n",
        "trainX, trainY,valX, valY, enc_seq_len, dec_seq_len, enc_vocab_size, dec_vocab_size, enc_tokenizer,dec_tokenizer = dataset_manipulator('english-german-both.pkl')\n",
        "trainX = torch.tensor(trainX.numpy())  # Convert to PyTorch tensor\n",
        "trainY = torch.tensor(trainY.numpy())  # Convert to PyTorch tensor\n",
        "\n",
        "valX = torch.tensor(valX.numpy())      # Convert to PyTorch tensor\n",
        "valY = torch.tensor(valY.numpy())      # Convert to PyTorch tensor\n",
        "\n",
        "train_dataloader= torch.utils.data.DataLoader(torch.utils.data.TensorDataset(trainX ,trainY), batch_size=batch_size, shuffle=True)\n",
        "val_dataloader= torch.utils.data.DataLoader(torch.utils.data.TensorDataset(valX, valY), batch_size=batch_size, shuffle=True)"
      ]
    },
    {
      "cell_type": "markdown",
      "metadata": {
        "id": "yBG1p6476Fnh"
      },
      "source": [
        "# Model"
      ]
    },
    {
      "cell_type": "markdown",
      "metadata": {
        "id": "5WeCeACR-8l-"
      },
      "source": [
        "## Multi Head Attention (MHA):"
      ]
    },
    {
      "cell_type": "markdown",
      "metadata": {
        "id": "obinSauKrskH"
      },
      "source": [
        " Steps in MHA</br>\n",
        "\n",
        " 1) Transformation into Q,K,V matrices. </br>\n",
        "\n",
        " 2) Subsequent division of last dimension( embedding dimension) into n_heads\n",
        "\n",
        " 3) self attention in each head. Note: Can be computed in a single matrix mulitplication\n",
        "\n",
        "4) Combining the heads back\n",
        "\n",
        "5) Get final output by mulitplying the value matrix."
      ]
    },
    {
      "cell_type": "code",
      "execution_count": 9,
      "metadata": {
        "id": "psAR0x64lQHm"
      },
      "outputs": [],
      "source": [
        "import torch\n",
        "import torch.nn as nn\n",
        "import torch.nn.functional as F\n",
        "from typing import Optional\n",
        "\n",
        "class MultiHeadAttention(nn.Module):\n",
        "  def __init__(self, h: int, d_k: int, d_v: int, d_model: int) -> None:\n",
        "    \"\"\"\n",
        "    Initializes the MultiHeadAttention module.\n",
        "\n",
        "    Args:\n",
        "        h (int): Number of attention heads.\n",
        "        d_k (int): Dimensionality of keys and queries.\n",
        "        d_v (int): Dimensionality of values.\n",
        "        d_model (int): Dimensionality of the model.\n",
        "    \"\"\"\n",
        "    super().__init__()\n",
        "    self.heads = h\n",
        "    self.d_k = d_k\n",
        "    self.d_v = d_v\n",
        "    self.d_model = d_model\n",
        "\n",
        "    # Linear transformations for queries, keys, values, and the output\n",
        "    self.W_q = nn.Linear(d_model, d_k)\n",
        "    self.W_k = nn.Linear(d_model, d_k)\n",
        "    self.W_v = nn.Linear(d_model, d_v)\n",
        "    self.W_o = nn.Linear(d_v, d_model)\n",
        "\n",
        "  def forward( self,  queries: torch.Tensor, keys: torch.Tensor,\n",
        "    values: torch.Tensor,  mask: Optional[torch.Tensor] = None ) -> torch.Tensor:\n",
        "    \"\"\"\n",
        "    Performs the forward pass of the multi-head attention mechanism.\n",
        "\n",
        "    Args:\n",
        "        queries (torch.Tensor): Query tensor of shape (batch_size, seq_length, d_model).\n",
        "        keys (torch.Tensor): Key tensor of shape (batch_size, seq_length, d_model).\n",
        "        values (torch.Tensor): Value tensor of shape (batch_size, seq_length, d_model).\n",
        "        mask (Optional[torch.Tensor]): Mask tensor of shape (batch_size, seq_length, seq_length) or None.\n",
        "\n",
        "    Returns:\n",
        "        torch.Tensor: Output tensor of shape (batch_size, seq_length, d_model).\n",
        "    \"\"\"\n",
        "    # 1. Linear projections for queries, keys, and values\n",
        "\n",
        "    q = self.W_q(queries)\n",
        "    k = self.W_k(keys)\n",
        "    v = self.W_v(values)\n",
        "\n",
        "    # 2. Reshape into multi-head format\n",
        "    q = self.reshape_tensor(q)\n",
        "    k = self.reshape_tensor(k)\n",
        "    v = self.reshape_tensor(v)\n",
        "    # 3. Compute scaled dot-product attention\n",
        "    wei = self.attention(q, k, v, self.d_k, mask)\n",
        "\n",
        "    # 4. Reshape back to original format\n",
        "\n",
        "    wei = self.reshape_tensor(wei, reverse=True)\n",
        "\n",
        "    # 5. Apply final linear transformation\n",
        "    return self.W_o(wei)\n",
        "\n",
        "  def reshape_tensor(self, x: torch.Tensor, reverse: bool = False) -> torch.Tensor:\n",
        "    \"\"\"\n",
        "    Reshapes the tensor for multi-head attention computation.\n",
        "\n",
        "    Args:\n",
        "        x (torch.Tensor): Input tensor of shape (batch_size, seq_length, d_model).\n",
        "        reverse (bool): If True, reshapes back to the original format.\n",
        "\n",
        "    Returns:\n",
        "        torch.Tensor: Reshaped tensor.\n",
        "\n",
        "    Note: Transpose has to be applied here- to turn [B,T,H,h/d_k]==> [B,H,T,h/d_k].\n",
        "          Because during the attention two dimensions has to participate, namely time/token dimension and embedding dimension (not the head dimension).\n",
        "          So transpose is necessary here.\n",
        "    \"\"\"\n",
        "    if not reverse:\n",
        "      b, t, c = x.size()\n",
        "      return x.view(b, t, self.heads, c // self.heads).transpose(1, 2)\n",
        "    else:\n",
        "      x = x.transpose(1, 2)\n",
        "      return x.contiguous().view(x.shape[0], x.shape[1], self.d_v)\n",
        "\n",
        "  def attention(self,  q: torch.Tensor, k: torch.Tensor, v: torch.Tensor,d_k: int, mask: Optional[torch.Tensor] = None\n",
        "  ) -> torch.Tensor:\n",
        "      \"\"\"\n",
        "      Computes the scaled dot-product attention.\n",
        "\n",
        "      Args:\n",
        "          q (torch.Tensor): Query tensor of shape (batch_size, heads, seq_length, d_k).\n",
        "          k (torch.Tensor): Key tensor of shape (batch_size, heads, seq_length, d_k).\n",
        "          v (torch.Tensor): Value tensor of shape (batch_size, heads, seq_length, d_v).\n",
        "          d_k (int): Dimensionality of keys and queries.\n",
        "          mask (Optional[torch.Tensor]): Mask tensor of shape (batch_size, seq_length, seq_length) or None.\n",
        "\n",
        "      Returns:\n",
        "          torch.Tensor: Output tensor of shape (batch_size, heads, seq_length, d_v).\n",
        "      \"\"\"\n",
        "      wei = q @ k.transpose(-2, -1) * d_k**-0.5  # (B, H, T, D_k) @ (B, H, D_k, T) -> (B, H, T, T)\n",
        "      if mask is not None:\n",
        "          wei += -1e9 * mask  # Large negative values give zero for softmax,\n",
        "      wei = F.softmax(wei, dim=-1)  # Normalize attention scores\n",
        "      return wei @ v  # (B, H, T, T) @ (B, H, T, D_v) -> (B, H, T, D_v)\n"
      ]
    },
    {
      "cell_type": "markdown",
      "metadata": {
        "id": "-QWWySJCryg4"
      },
      "source": [
        "## FFNN and Layernorm"
      ]
    },
    {
      "cell_type": "markdown",
      "metadata": {
        "id": "KY4Z79N-6THb"
      },
      "source": [
        "\n",
        "FFNN is applied at the end of each encoder and decoder block. FFNN layer is composed of two linear opeartions. This layer changes the last dimension to d_ff an then takes it back. This layer has a ReLU layer inbetween, but not after."
      ]
    },
    {
      "cell_type": "code",
      "execution_count": 10,
      "metadata": {
        "id": "DciGOy9M6SDi"
      },
      "outputs": [],
      "source": [
        "class Feed_Forward(nn.Module):\n",
        "  def __init__(self, d_model : int, d_ff: int)-> None:\n",
        "    super().__init__()\n",
        "    self.net = nn.Sequential(\n",
        "      nn.Linear(d_model, d_ff),\n",
        "      nn.ReLU(),\n",
        "      nn.Linear(d_ff, d_model),\n",
        "    )\n",
        "  def forward(self,x:torch.Tensor)-> torch.Tensor:\n",
        "    return self.net(x)\n"
      ]
    },
    {
      "cell_type": "markdown",
      "source": [
        "Layernorm is applied at the end of each sublayer. </br>"
      ],
      "metadata": {
        "id": "vT9goAgHajeL"
      }
    },
    {
      "cell_type": "markdown",
      "source": [
        "## Positional Encoding"
      ],
      "metadata": {
        "id": "j56_r8bIgm3a"
      }
    },
    {
      "cell_type": "markdown",
      "source": [
        "Positional Encoding table is precomputed.\n",
        "\n",
        "1) Number of rows is determined by max sequence length (This is extracted from the training set).\n",
        "\n",
        "2) Number of columns is embedding dimension or model_dimension."
      ],
      "metadata": {
        "id": "Wf1pm8G1g9Hl"
      }
    },
    {
      "cell_type": "code",
      "source": [
        "class PositionalEncoding(nn.Module):\n",
        "  def __init__(self, model_dimension: int, expected_max_sequence_length: int)-> None:\n",
        "    super().__init__()\n",
        "    position_id = torch.arange(expected_max_sequence_length).unsqueeze(1)\n",
        "    frequencies = 10000 ** (-torch.arange(0, model_dimension, 2, dtype=torch.float) / model_dimension)\n",
        "\n",
        "    # Precompute the positional encodings\n",
        "    positional_encodings_table = torch.zeros(expected_max_sequence_length, model_dimension)\n",
        "    positional_encodings_table[:, 0::2] = torch.sin(position_id * frequencies)\n",
        "    positional_encodings_table[:, 1::2] = torch.cos(position_id * frequencies)\n",
        "\n",
        "    # Save the encodings as a non-trainable buffer\n",
        "    self.register_buffer('positional_encodings_table', positional_encodings_table)\n",
        "\n",
        "  def forward(self, embeddings_batch: torch.Tensor)-> torch.Tensor:\n",
        "\n",
        "    assert embeddings_batch.shape[-1] == self.positional_encodings_table.size(1), \\\n",
        "      f\"Model dimension mismatch: {embeddings_batch.shape[-1]} != {self.positional_encodings_table.size(1)}\"\n",
        "\n",
        "    # Select and return positional encodings matching the sequence length\n",
        "    return self.positional_encodings_table[:embeddings_batch.size(1)]\n"
      ],
      "metadata": {
        "id": "vOQiRUXUgkOL"
      },
      "execution_count": 11,
      "outputs": []
    },
    {
      "cell_type": "markdown",
      "metadata": {
        "id": "fk3w2HWksMxa"
      },
      "source": [
        "## Encoder"
      ]
    },
    {
      "cell_type": "markdown",
      "metadata": {
        "id": "wHA96f-NwFpC"
      },
      "source": [
        "#### Encoder Block"
      ]
    },
    {
      "cell_type": "markdown",
      "source": [
        "x------------------------------------------------------x</br>\n",
        "|&nbsp; &nbsp; &nbsp;    &nbsp; &nbsp; &nbsp;&nbsp; &nbsp; &nbsp;&nbsp; &nbsp; &nbsp;&nbsp; &nbsp; &nbsp;&nbsp; &nbsp; &nbsp;&nbsp; &nbsp; &nbsp;&nbsp; &nbsp; &nbsp;&nbsp; &nbsp; &nbsp;&nbsp; &nbsp; &nbsp;&nbsp; &nbsp; &nbsp;&nbsp; &nbsp; &nbsp;     + &nbsp; &nbsp; =&nbsp; &nbsp; &nbsp; layernorm(x)------------------------------layernorm(x) </br>\n",
        "x->layernorm(x)->MHA(x)->dropout(x)    &nbsp; &nbsp; &nbsp;&nbsp; &nbsp; &nbsp;&nbsp; &nbsp; &nbsp;     |                          &nbsp; &nbsp; &nbsp;&nbsp; &nbsp; &nbsp;&nbsp; &nbsp; &nbsp;&nbsp; &nbsp; &nbsp;&nbsp; &nbsp; &nbsp;&nbsp; &nbsp; &nbsp;&nbsp; &nbsp; &nbsp;&nbsp; &nbsp; &nbsp;&nbsp; &nbsp; &nbsp;&nbsp; &nbsp; &nbsp;&nbsp; &nbsp; &nbsp;&nbsp; &nbsp; &nbsp;&nbsp; &nbsp; &nbsp;   +  = output</br>\n",
        "     &nbsp; &nbsp; &nbsp;&nbsp; &nbsp; &nbsp;&nbsp; &nbsp; &nbsp;&nbsp; &nbsp; &nbsp;&nbsp; &nbsp; &nbsp;&nbsp; &nbsp; &nbsp;&nbsp; &nbsp; &nbsp;&nbsp; &nbsp; &nbsp;&nbsp; &nbsp; &nbsp;&nbsp; &nbsp; &nbsp;&nbsp; &nbsp; &nbsp;&nbsp; &nbsp; &nbsp;&nbsp; &nbsp; &nbsp;&nbsp; &nbsp; &nbsp;&nbsp; &nbsp; &nbsp;&nbsp; &nbsp; &nbsp;                                       FFNN(x)-- ReLU(x)--FNNN(x) --- dropout(x)"
      ],
      "metadata": {
        "id": "X1kKVN-Uh7Nz"
      }
    },
    {
      "cell_type": "code",
      "execution_count": 12,
      "metadata": {
        "id": "3YIqi6tR9OyW"
      },
      "outputs": [],
      "source": [
        "from typing import Optional\n",
        "\n",
        "class EncoderBlock(nn.Module):\n",
        "  def __init__(self, h: int, d_k: int, d_v: int, d_model: int, rate: float, d_ff: int= d_ff) -> None:\n",
        "    super().__init__()\n",
        "\n",
        "    self.MHA = MultiHeadAttention(h, d_k, d_v, d_model)\n",
        "\n",
        "    self.dropout1 = nn.Dropout(rate)\n",
        "    self.dropout2 = nn.Dropout(rate)\n",
        "\n",
        "    self.layernorm1 = nn.LayerNorm(d_model)\n",
        "    self.layernorm2 = nn.LayerNorm(d_model)\n",
        "\n",
        "    self.Feed_Forward = Feed_Forward(d_model, d_ff)\n",
        "\n",
        "  def forward(self, x: torch.Tensor, padding_mask: Optional[torch.Tensor] = None ) -> torch.Tensor:\n",
        "\n",
        "    x_sideline = self.layernorm1(x)\n",
        "\n",
        "    x = x + self.dropout1(self.MHA(x_sideline, x_sideline, x_sideline, padding_mask))\n",
        "\n",
        "    x_sideline1 = self.layernorm2(x)  # mha -> dropout -> residual -> layer norm\n",
        "\n",
        "    x = x + self.dropout2(self.Feed_Forward(x_sideline1))  # FFNN -> dropout -> residual -> layer norm\n",
        "\n",
        "    return x\n"
      ]
    },
    {
      "cell_type": "markdown",
      "metadata": {
        "id": "xSM5fsG33Hdu"
      },
      "source": [
        "Encoder block is repeated 8 (n_layers) times.\n",
        "Nt: Dropout layer is added after positional encoding"
      ]
    },
    {
      "cell_type": "markdown",
      "source": [
        "### Encoder"
      ],
      "metadata": {
        "id": "XQnEIrf9gU6g"
      }
    },
    {
      "cell_type": "code",
      "execution_count": 13,
      "metadata": {
        "id": "4OVFAx9E2RzP"
      },
      "outputs": [],
      "source": [
        "class Encoder(nn.Module):\n",
        "  def __init__(self, vocab_size: int, max_length: int, d_model: int, h: int, d_k: int, d_v: int, d_ff: int, n_layers: int, rate: float) -> None:\n",
        "    super().__init__()\n",
        "    self.embedding = nn.Embedding(vocab_size, d_model)\n",
        "    self.positional_encoding = PositionalEncoding(d_model, max_length)\n",
        "    self.dropout = nn.Dropout(rate)\n",
        "\n",
        "    self.layers = nn.ModuleList([EncoderBlock(h, d_k, d_v, d_model, rate) for _ in range(n_layers)])\n",
        "\n",
        "  def forward(self, sentence: torch.Tensor, padding_mask: Optional[torch.Tensor]=None) -> torch.Tensor:\n",
        "    x = self.embedding(sentence)\n",
        "    x = x + self.positional_encoding(x)\n",
        "    x = self.dropout(x)\n",
        "    for layer in self.layers:\n",
        "        x = layer(x, padding_mask)\n",
        "    return x\n"
      ]
    },
    {
      "cell_type": "markdown",
      "metadata": {
        "id": "erroxYiUIA8_"
      },
      "source": [
        "## Decoder"
      ]
    },
    {
      "cell_type": "markdown",
      "metadata": {
        "id": "_TH26YYMQObu"
      },
      "source": [
        "So, the structure goes as below.\n",
        " norm-> MHA -> dropout-> residual norm\n",
        " MHA2(Cross attention) -> dropout -> residual norm\n",
        " FF -> dropout -> residual norm.\n",
        "\n",
        " **Note**:\n",
        "\n",
        " 1) Layer norms are applied before sublayers rather than after.\n",
        "\n",
        " 2) Padding mask is necessary for every attention computation. But, look ahead mask is used only during decoder self attention\n",
        "*   Encoder has sentence which needs to be translated. So encoder should have access to all the tokenns in a sentence.\n",
        "*   Decoder translates the sentence. That is why it should not have access future words during training. That is why look aheed mask is used in a decoder not in encoder.\n",
        "*  The Look ahead mask is not used during cross attention. This is because keys are provided by the encoder and it does not use this mask\n",
        "* The padding mask for cross attention is constructed from the encoder input.\n",
        "\n",
        "In the code look_ahead mask already has the paddin mask engrained with it.\n",
        "\n"
      ]
    },
    {
      "cell_type": "code",
      "execution_count": 14,
      "metadata": {
        "id": "FFhvCrVDI0ni"
      },
      "outputs": [],
      "source": [
        "from typing import Optional\n",
        "\n",
        "class DecoderBlock(nn.Module):\n",
        "  def __init__(self, h: int, d_k: int, d_v: int, d_model: int, d_ff: int, rate: float) -> None:\n",
        "    super().__init__()\n",
        "    self.MHA = MultiHeadAttention(h, d_k, d_v, d_model)\n",
        "    self.MHA2 = MultiHeadAttention(h, d_k, d_v, d_model)\n",
        "\n",
        "    # It is not necessary to define dropout layers mulitple times. It is stateless.\n",
        "    self.dropout3 = nn.Dropout(rate)\n",
        "    self.dropout2 = nn.Dropout(rate)\n",
        "    self.dropout1 = nn.Dropout(rate)\n",
        "\n",
        "    # Layernorm have learned parameters(Gamma and beta)\n",
        "    self.add_norm = nn.LayerNorm(d_model)\n",
        "    self.add_norm2 = nn.LayerNorm(d_model)\n",
        "    self.add_norm3 = nn.LayerNorm(d_model)\n",
        "\n",
        "    self.Feed_Forward = Feed_Forward(d_model, d_ff)\n",
        "\n",
        "  def forward(self, x: torch.Tensor, encoder_output: torch.Tensor, padding_mask: Optional[torch.Tensor] = None, look_ahead_mask: Optional[torch.Tensor] = None) -> torch.Tensor:\n",
        "\n",
        "    x_sideline = self.add_norm(x)\n",
        "    x = x + self.dropout1(self.MHA(x_sideline, x_sideline, x_sideline, look_ahead_mask))\n",
        "\n",
        "    x_sideline1 = self.add_norm2(x)\n",
        "# Encoder output is used because this is cross-attention. Padding mask is constructed from encoder input\n",
        "    x = x + self.dropout2(self.MHA2(x_sideline1, encoder_output, encoder_output, padding_mask))\n",
        "\n",
        "\n",
        "    x_sideline2 = self.add_norm3(x)\n",
        "    x = x + self.dropout3(self.Feed_Forward(x_sideline2))\n",
        "    return x\n"
      ]
    },
    {
      "cell_type": "code",
      "execution_count": 15,
      "metadata": {
        "id": "czSA5NY6P8fL"
      },
      "outputs": [],
      "source": [
        "from typing import Optional\n",
        "\n",
        "class Decoder(nn.Module):\n",
        "  def __init__(self, vocab_size: int, max_length: int, d_model: int, h: int, d_k: int, d_v: int, d_ff: int, n_layers: int, rate: float) -> None:\n",
        "    super().__init__()\n",
        "    self.embedding = nn.Embedding(vocab_size, d_model)\n",
        "\n",
        "    self.positional_encoding = PositionalEncoding(d_model, max_length)\n",
        "    self.dropout = nn.Dropout(rate)\n",
        "\n",
        "    self.layers = nn.ModuleList([DecoderBlock(h, d_k, d_v, d_model, d_ff, rate) for _ in range(n_layers)])\n",
        "\n",
        "  def forward(self, decoder_input: torch.Tensor, encoder_output: torch.Tensor, lookahead_mask: Optional[torch.Tensor], padding_mask: Optional[torch.Tensor]) -> torch.Tensor:\n",
        "    x = self.embedding(decoder_input)\n",
        "\n",
        "    x = x + self.positional_encoding(x)\n",
        "    x = self.dropout(x)\n",
        "\n",
        "    for layer in self.layers:\n",
        "\n",
        "        x = layer(x, encoder_output, padding_mask, lookahead_mask)\n",
        "    return x\n"
      ]
    },
    {
      "cell_type": "markdown",
      "metadata": {
        "id": "JYe_oWOCR7MI"
      },
      "source": [
        "## Transformer"
      ]
    },
    {
      "cell_type": "code",
      "execution_count": 16,
      "metadata": {
        "id": "W0f2INpoO5eW"
      },
      "outputs": [],
      "source": [
        "from typing import Optional, Union, Type\n",
        "\n",
        "class Transformer(nn.Module):\n",
        "  def __init__(self, enc_vocab_size: int, dec_vocab_size: int, enc_seq_len: int, dec_seq_len: int,\n",
        "               d_model: int, h: int, d_k: int, d_v: int, d_ff: int, n_layers: int, rate: float) -> None:\n",
        "    super().__init__()\n",
        "\n",
        "    self.encoder = Encoder(enc_vocab_size, enc_seq_len, d_model, h, d_k, d_v, d_ff, n_layers, rate)\n",
        "    self.decoder = Decoder(dec_vocab_size, dec_seq_len, d_model, h, d_k, d_v, d_ff, n_layers, rate)\n",
        "    self.model_output = nn.Linear(d_model, dec_vocab_size)\n",
        "\n",
        "    self.init_weights() # Xavier Initialization\n",
        "\n",
        "  def forward(self, encoder_input: torch.Tensor, decoder_input: torch.Tensor) -> torch.Tensor:\n",
        "    # Creating padding mask. This will remove padded tokens out of contibution during attention.\n",
        "    padding_mask_enc = self.padding_mask(encoder_input)\n",
        "    padding_mask_dec = self.padding_mask(decoder_input)\n",
        "\n",
        "    lookahead_mask_dec = self.look_ahead_mask(decoder_input.shape[1])\n",
        "    lookahead_mask_dec = torch.maximum(lookahead_mask_dec, padding_mask_dec)\n",
        "\n",
        "    encoder_output = self.encoder(encoder_input, padding_mask_enc)\n",
        "    decoder_output = self.decoder(decoder_input, encoder_output, lookahead_mask_dec, padding_mask_enc)\n",
        "    return self.model_output(decoder_output)\n",
        "\n",
        "\n",
        "  def padding_mask(self, x: torch.Tensor) -> torch.Tensor:\n",
        "    return (x == 0).float().unsqueeze(1).unsqueeze(1) # Shape =[Batch,1,1,seq_length]. This will broadcast during attention to [Batch,heads,seq_length,seq_length].\n",
        "\n",
        "  def look_ahead_mask(self, shape: int) -> torch.Tensor:\n",
        "    x = torch.tril(torch.ones((shape, shape), device=device))\n",
        "    return x.type(torch.float32)\n",
        "\n",
        "  def init_weights(self) -> None:\n",
        "    for p in self.parameters():\n",
        "      if p.dim() > 1:\n",
        "        nn.init.xavier_uniform_(p)"
      ]
    },
    {
      "cell_type": "markdown",
      "metadata": {
        "id": "tLRAMWAe1BBX"
      },
      "source": [
        "# Training"
      ]
    },
    {
      "cell_type": "markdown",
      "metadata": {
        "id": "nXE67uELMDs4"
      },
      "source": [
        "## Functions"
      ]
    },
    {
      "cell_type": "code",
      "execution_count": 17,
      "metadata": {
        "id": "69cMCX3xbtTq"
      },
      "outputs": [],
      "source": [
        "import torch\n",
        "import torch.nn.functional as F\n",
        "import nltk\n",
        "from nltk.translate.bleu_score import sentence_bleu, SmoothingFunction\n",
        "\n",
        "def loss_fcn(target, prediction):\n",
        "  padding_mask = (target != 0).float()\n",
        "  loss = F.cross_entropy(prediction, target, reduction='none',label_smoothing=0.1) * padding_mask # reduction none returns values every seq length. Otherwise will return a mean scalar.\n",
        "  # Compute the mean loss over the unmasked values\n",
        "  return loss.sum() / padding_mask.sum()\n",
        "\n",
        "def accuracy_fcn(target, prediction):\n",
        "    padding_mask = (target != 0)\n",
        "    accuracy = (target == torch.argmax(prediction, dim=2))\n",
        "    accuracy = padding_mask & accuracy # And operation. If padding mask is 0 ( padded accuracy is not counted)\n",
        "    padding_mask = padding_mask.float()\n",
        "    accuracy = accuracy.float()\n",
        "    # Compute the mean accuracy over the unmasked values\n",
        "    return accuracy.sum() / padding_mask.sum()\n",
        "\n",
        "from nltk.translate.bleu_score import sentence_bleu, SmoothingFunction\n",
        "\n",
        "def BLEU(reference, candidate, pad_token=0):\n",
        "    # Smoothing function (using method6)\n",
        "    smooth_fn = SmoothingFunction().method4\n",
        "    eos = dec_tokenizer.word_index['eos']\n",
        "\n",
        "    # Remove padding and <eos> tokens from reference and candidate sequences\n",
        "    candidate = [[word for word in sent if word not in [pad_token, eos]] for sent in candidate]\n",
        "    reference = [[word for word in sent if word not in [pad_token, eos]] for sent in reference]\n",
        "\n",
        "    bleu_score = 0\n",
        "    bleu_scores = []  # Store individual BLEU scores for debugging\n",
        "\n",
        "    # Compute BLEU score for each sentence in the batch\n",
        "    for cand, ref in zip(candidate, reference):\n",
        "      for i in range(len(cand)):\n",
        "        cand[i] = cand[i].item()\n",
        "      for i in range(len(ref)):\n",
        "        ref[i] = ref[i].item()\n",
        "      score = sentence_bleu([ref],cand, smoothing_function=smooth_fn)\n",
        "      bleu_scores.append(score)\n",
        "      bleu_score += score\n",
        "\n",
        "    # Return average BLEU score over all sentences in the batch\n",
        "    return bleu_score / len(candidate)\n",
        "\n"
      ]
    },
    {
      "cell_type": "code",
      "execution_count": 18,
      "metadata": {
        "id": "GckGmILr07fP"
      },
      "outputs": [],
      "source": [
        "from torch.optim.lr_scheduler import _LRScheduler\n",
        "import math\n",
        "\n",
        "class LRScheduler(_LRScheduler):\n",
        "  def __init__(self, optimizer, d_model, warmup_steps=150, last_epoch=-1):\n",
        "    self.d_model = d_model\n",
        "    self.warmup_steps = warmup_steps\n",
        "    super(LRScheduler, self).__init__(optimizer, last_epoch)\n",
        "\n",
        "  def get_lr(self):\n",
        "  # Get the current step number\n",
        "    step_num = max(1, self._step_count)\n",
        "\n",
        "    # Linearly increasing the learning rate for the first warmup_steps, and decreasing it thereafter\n",
        "    arg1 = step_num ** -0.5\n",
        "    arg2 = step_num * (self.warmup_steps ** -1.5)\n",
        "\n",
        "    # Compute the learning rate according to the schedule\n",
        "    lr = (self.d_model ** -0.5) * min(arg1, arg2)\n",
        "\n",
        "    return [lr for _ in self.optimizer.param_groups]\n",
        "\n",
        "class NoWarmupLRScheduler(_LRScheduler):\n",
        "    def __init__(self, optimizer, initial_lr=5e-4, decay_epoch=10, decay_factor=0.1, last_epoch=-1):\n",
        "        self.initial_lr = initial_lr\n",
        "        self.decay_epoch = decay_epoch\n",
        "        self.decay_factor = decay_factor\n",
        "        super(NoWarmupLRScheduler, self).__init__(optimizer, last_epoch)\n",
        "\n",
        "    def get_lr(self):\n",
        "        # Get the current epoch\n",
        "        epoch = self.last_epoch + 1\n",
        "\n",
        "        # If we are past the decay_epoch, apply the decay factor\n",
        "        if epoch >= self.decay_epoch:\n",
        "            lr = self.initial_lr * (self.decay_factor ** (epoch - self.decay_epoch + 1))\n",
        "        else:\n",
        "            lr = self.initial_lr\n",
        "\n",
        "        # Return the updated learning rates for all parameter groups\n",
        "        return [lr for _ in self.optimizer.param_groups]\n"
      ]
    },
    {
      "cell_type": "code",
      "execution_count": 42,
      "metadata": {
        "id": "ZnSDvfIfM-eI"
      },
      "outputs": [],
      "source": [
        "import matplotlib.pyplot as plt\n",
        "import torch\n",
        "\n",
        "class Model_worker:\n",
        "  def __init__(self, model, scheduler, optimizer, loss_fn, accuracy_fn, device, dec_vocab_size):\n",
        "    self.model = model\n",
        "    self.scheduler = scheduler(optimizer)\n",
        "    self.optimizer = optimizer\n",
        "    self.loss_fn = loss_fn\n",
        "    self.accuracy_fn = accuracy_fn\n",
        "    self.device = device\n",
        "    self.dec_vocab_size = dec_vocab_size\n",
        "    self.epochs_done = 0\n",
        "\n",
        "  def train_epoch(self, train_dataloader, BLEU):\n",
        "    self.model.train()\n",
        "    loss_list = []\n",
        "    bleu_list = []\n",
        "\n",
        "    for step, (i, j) in enumerate(train_dataloader):\n",
        "      i, j = i.to(self.device), j.to(self.device)\n",
        "      dec_input = j[:, :-1]\n",
        "      target = j[:, 1:]\n",
        "\n",
        "      # Forward pass\n",
        "      prediction = self.model(i, dec_input)\n",
        "      loss = self.loss_fn(target.reshape(-1), prediction.reshape(-1, self.dec_vocab_size))\n",
        "      accuracy = self.accuracy_fn(target, prediction)\n",
        "\n",
        "      # Backpropagation and optimization\n",
        "      self.optimizer.zero_grad()\n",
        "      loss.backward()\n",
        "      self.optimizer.step()\n",
        "      # Store loss and BLEU score\n",
        "      loss_list.append(loss.item())\n",
        "      bleu_list.append(BLEU(target, prediction.argmax(dim=-1)))\n",
        "\n",
        "      # Print every 10 steps\n",
        "      print( f\"\\rEpoch: {self.epochs_done+1} | Step {step} | Average Loss: {sum(loss_list) / len(loss_list):.5f} Average BLEU Score: {sum(bleu_list) / len(bleu_list):.5f}\",end=\"\")\n",
        "\n",
        "    # Plot training loss\n",
        "    if PLOT:\n",
        "      plt.plot(loss_list)\n",
        "      plt.xlabel('batch')\n",
        "      plt.ylabel('Loss')\n",
        "      plt.title('Loss vs batch')\n",
        "      plt.show()\n",
        "\n",
        "    self.scheduler.step()\n",
        "    self.epochs_done += 1\n",
        "    return sum(loss_list) / len(loss_list), sum(bleu_list) / len(bleu_list)\n",
        "\n",
        "  def validate(self, val_dataloader, BLEU):\n",
        "    self.model.eval()\n",
        "    val_loss_list = []\n",
        "    val_bleu_list = []\n",
        "\n",
        "    with torch.no_grad():\n",
        "      for i, j in val_dataloader:\n",
        "        i, j = i.to(self.device), j.to(self.device)\n",
        "        dec_input = j[:, :-1]\n",
        "        target = j[:, 1:]\n",
        "\n",
        "        # Forward pass\n",
        "        prediction = self.model(i, dec_input)\n",
        "\n",
        "        # Calculate validation loss and BLEU score\n",
        "        val_loss = self.loss_fn(target.reshape(-1), prediction.reshape(-1, self.dec_vocab_size))\n",
        "        val_bleu = BLEU(target, prediction.argmax(dim=-1))\n",
        "\n",
        "        val_loss_list.append(val_loss.item())\n",
        "        val_bleu_list.append(val_bleu)\n",
        "\n",
        "    return sum(val_loss_list) / len(val_loss_list), sum(val_bleu_list) / len(val_bleu_list)\n",
        "\n",
        "  def train_and_validate(self, train_dataloader, val_dataloader, BLEU, num_epochs):\n",
        "    train_lossi = []\n",
        "    train_bleui = []\n",
        "    val_lossi= []\n",
        "    val_bleui=[]\n",
        "    val_loss, val_bleu = self.validate(val_dataloader, BLEU)\n",
        "    print(f\"Validation Loss before training: {val_loss:.5f}\")\n",
        "\n",
        "    for epoch in range(num_epochs):\n",
        "      # print(f\"Epoch {epoch}\")\n",
        "      # Training\n",
        "      avg_loss, avg_bleu = self.train_epoch(train_dataloader, BLEU)\n",
        "\n",
        "      train_lossi.append(avg_loss)\n",
        "      train_bleui.append(avg_bleu)\n",
        "\n",
        "      # print(f\"Epoch {epoch} | Average Loss: {avg_loss}\")\n",
        "      # print(f\"Epoch {epoch} | Average BLEU Score: {avg_bleu}\")\n",
        "\n",
        "      # Validation\n",
        "      val_loss, val_bleu = self.validate(val_dataloader, BLEU)\n",
        "      print(f\"\\n Validation Loss: {val_loss:.5f} |  Validation BLEU Score {val_bleu:.5f}\")\n",
        "      val_lossi.append(val_loss)\n",
        "      val_bleui.append(val_bleu)\n",
        "\n",
        "    return train_lossi, train_bleui, val_lossi, val_bleui\n",
        "\n",
        "\n",
        "  def inference(self, eng_sentence, enc_seq_len, dec_seq_len, enc_tokenizer, dec_tokenizer,model= None):\n",
        "    if model== None:\n",
        "      model=self.model\n",
        "\n",
        "    enc_token = enc_tokenizer.texts_to_sequences([\"<START>\" + eng_sentence + \"<EOS>\"])\n",
        "    enc_input = torch.tensor(enc_token, dtype=torch.int32).to(device)\n",
        "\n",
        "    # Initialize the decoder sequence with <START> token\n",
        "    dec_start = torch.tensor(dec_tokenizer.texts_to_sequences(['<START>']), dtype=torch.int64).to(device)\n",
        "    dec_end = dec_tokenizer.texts_to_sequences(['<EOS>'])[0][0]  # Extract the EOS token ID\n",
        "\n",
        "    model.eval()\n",
        "    for _ in range(dec_seq_len):\n",
        "      with torch.no_grad():\n",
        "        prediction = model(enc_input, dec_start)\n",
        "\n",
        "          # Select the token with the highest probability\n",
        "      logits = prediction[0, -1]\n",
        "\n",
        "      # Apply softmax to convert logits to probabilities\n",
        "      probabilities = torch.softmax(logits, dim=-1)\n",
        "\n",
        "# Sample a token from the probability distribution\n",
        "      predicted_token = torch.multinomial(probabilities, num_samples=1).item()\n",
        "\n",
        "      # Break if <EOS> is reached\n",
        "      if predicted_token == dec_end:\n",
        "          break\n",
        "\n",
        "          # Append predicted token to the decoder input\n",
        "      next_token = torch.tensor([[predicted_token]], dtype=torch.int64).to(device)\n",
        "      dec_start = torch.cat([dec_start, next_token], dim=1)\n",
        "    model.train()\n",
        "\n",
        "    # Convert decoded sequence back to text\n",
        "    decoded_sequence = dec_tokenizer.sequences_to_texts(dec_start.cpu().numpy())\n",
        "    return decoded_sequence[0][1:]  # Return the complete translation\n",
        "  # Removing the start token\n"
      ]
    },
    {
      "cell_type": "markdown",
      "metadata": {
        "id": "Zqv7yJ4Gy_-n"
      },
      "source": [
        "## Training\n"
      ]
    },
    {
      "cell_type": "code",
      "source": [
        "PLOT= False # Plots loss after every epoch\n",
        "device= torch.device('cuda' if torch.cuda.is_available() else 'cpu')\n",
        "print(device)"
      ],
      "metadata": {
        "id": "QUCTxvgqOg06",
        "outputId": "ee11cb56-a1f9-403e-d096-a57db0822921",
        "colab": {
          "base_uri": "https://localhost:8080/"
        }
      },
      "execution_count": 20,
      "outputs": [
        {
          "output_type": "stream",
          "name": "stdout",
          "text": [
            "cuda\n"
          ]
        }
      ]
    },
    {
      "cell_type": "code",
      "execution_count": 21,
      "metadata": {
        "id": "p9rT0Qi7zDyM"
      },
      "outputs": [],
      "source": [
        "num_epochs=15"
      ]
    },
    {
      "cell_type": "code",
      "source": [
        "# model=Transformer(enc_vocab_size,dec_vocab_size,enc_seq_len,dec_seq_len,d_model,h,d_k,d_v,d_ff,n,dropout_rate)\n",
        "model.to(device)\n",
        "optimizer = torch.optim.Adam(model.parameters(), lr=1e-9, betas=(0.9, 0.98), eps=1e-9)\n",
        "model_worker = Model_worker(model, NoWarmupLRScheduler, optimizer, loss_fcn, accuracy_fcn, device, dec_vocab_size)"
      ],
      "metadata": {
        "id": "L6o4hJhvIypC"
      },
      "execution_count": 43,
      "outputs": []
    },
    {
      "cell_type": "code",
      "source": [
        "train_loss,train_bleu,val_loss,val_bleu=model_worker.train_and_validate(train_dataloader, val_dataloader, BLEU, num_epochs)"
      ],
      "metadata": {
        "id": "wWAk8oFeWJ6s",
        "outputId": "c0f69741-3494-45b9-bb20-6417cb659c5f",
        "colab": {
          "base_uri": "https://localhost:8080/"
        }
      },
      "execution_count": 23,
      "outputs": [
        {
          "output_type": "stream",
          "name": "stdout",
          "text": [
            "Validation Loss before training: 10.06681\n",
            "Epoch: 1 | Step 140 | Average Loss: 6.15540 Average BLEU Score: 0.02991\n",
            " Validation Loss: 3.93827 |  Validation BLEU Score 0.09138\n",
            "Epoch: 2 | Step 140 | Average Loss: 3.48294 Average BLEU Score: 0.10573\n",
            " Validation Loss: 2.92290 |  Validation BLEU Score 0.15321\n",
            "Epoch: 3 | Step 140 | Average Loss: 2.66662 Average BLEU Score: 0.16362\n",
            " Validation Loss: 2.48720 |  Validation BLEU Score 0.20927\n",
            "Epoch: 4 | Step 140 | Average Loss: 2.17706 Average BLEU Score: 0.21409\n",
            " Validation Loss: 2.21670 |  Validation BLEU Score 0.20121\n",
            "Epoch: 5 | Step 140 | Average Loss: 1.85875 Average BLEU Score: 0.24033\n",
            " Validation Loss: 2.06381 |  Validation BLEU Score 0.22862\n",
            "Epoch: 6 | Step 140 | Average Loss: 1.65694 Average BLEU Score: 0.27069\n",
            " Validation Loss: 1.93386 |  Validation BLEU Score 0.28054\n",
            "Epoch: 7 | Step 140 | Average Loss: 1.53020 Average BLEU Score: 0.29926\n",
            " Validation Loss: 1.85418 |  Validation BLEU Score 0.29613\n",
            "Epoch: 8 | Step 140 | Average Loss: 1.44252 Average BLEU Score: 0.34414\n",
            " Validation Loss: 1.80342 |  Validation BLEU Score 0.32293\n",
            "Epoch: 9 | Step 140 | Average Loss: 1.38051 Average BLEU Score: 0.36771\n",
            " Validation Loss: 1.74852 |  Validation BLEU Score 0.28627\n",
            "Epoch: 10 | Step 140 | Average Loss: 1.27022 Average BLEU Score: 0.38451\n",
            " Validation Loss: 1.67568 |  Validation BLEU Score 0.33581\n",
            "Epoch: 11 | Step 140 | Average Loss: 1.23764 Average BLEU Score: 0.43360\n",
            " Validation Loss: 1.67369 |  Validation BLEU Score 0.33607\n",
            "Epoch: 12 | Step 140 | Average Loss: 1.23369 Average BLEU Score: 0.43983\n",
            " Validation Loss: 1.67634 |  Validation BLEU Score 0.33719\n",
            "Epoch: 13 | Step 140 | Average Loss: 1.23380 Average BLEU Score: 0.43985\n",
            " Validation Loss: 1.67483 |  Validation BLEU Score 0.33736\n",
            "Epoch: 14 | Step 140 | Average Loss: 1.23382 Average BLEU Score: 0.43936\n",
            " Validation Loss: 1.67884 |  Validation BLEU Score 0.33713\n",
            "Epoch: 15 | Step 140 | Average Loss: 1.23362 Average BLEU Score: 0.43999\n",
            " Validation Loss: 1.67796 |  Validation BLEU Score 0.33656\n"
          ]
        }
      ]
    },
    {
      "cell_type": "markdown",
      "metadata": {
        "id": "hWKRz9JONa8v"
      },
      "source": [
        "# Plotting"
      ]
    },
    {
      "cell_type": "code",
      "source": [
        "plt.plot(train_loss, label='Training Loss')\n",
        "plt.plot(val_loss, label='Validation Loss')\n",
        "# plt.plot(val_bleu, label='Validation BLEU')\n",
        "plt.xlabel('Epoch')\n",
        "plt.ylabel('Loss')\n",
        "plt.title('Loss vs Epoch')\n",
        "plt.legend()\n",
        "plt.show()"
      ],
      "metadata": {
        "colab": {
          "base_uri": "https://localhost:8080/",
          "height": 472
        },
        "id": "0IMabr-y2glQ",
        "outputId": "6147362d-c7bc-455d-e8cf-fd24e57bc0a9"
      },
      "execution_count": 24,
      "outputs": [
        {
          "output_type": "display_data",
          "data": {
            "text/plain": [
              "<Figure size 640x480 with 1 Axes>"
            ],
            "image/png": "[encoded data removed]"
          },
          "metadata": {}
        }
      ]
    },
    {
      "cell_type": "code",
      "source": [
        "plt.plot(train_bleu, label='Training BLEU')\n",
        "plt.plot(val_bleu, label=' Validation BLEU')\n",
        "# plt.plot(val_bleu, label='Validation BLEU')\n",
        "plt.xlabel('Epoch')\n",
        "plt.ylabel('BLEU')\n",
        "plt.title('BLEU vs Epoch')\n",
        "plt.legend()\n",
        "plt.show()"
      ],
      "metadata": {
        "colab": {
          "base_uri": "https://localhost:8080/",
          "height": 472
        },
        "id": "tPCLcHX54tnZ",
        "outputId": "1d8c1875-d8e5-4d8e-84f1-b1c243bec694"
      },
      "execution_count": 25,
      "outputs": [
        {
          "output_type": "display_data",
          "data": {
            "text/plain": [
              "<Figure size 640x480 with 1 Axes>"
            ],
            "image/png": "[encoded data removed]"
          },
          "metadata": {}
        }
      ]
    },
    {
      "cell_type": "markdown",
      "source": [
        "# Inference"
      ],
      "metadata": {
        "id": "aaCKRcA4Cp2D"
      }
    },
    {
      "cell_type": "code",
      "source": [
        "model_worker.inference('i like both',enc_seq_len,dec_seq_len,enc_tokenizer,dec_tokenizer)"
      ],
      "metadata": {
        "id": "cYUVnqYrar63"
      },
      "execution_count": null,
      "outputs": []
    }
  ],
  "metadata": {
    "colab": {
      "collapsed_sections": [
        "8IjXJAO858st",
        "yBG1p6476Fnh",
        "nXE67uELMDs4"
      ],
      "provenance": []
    },
    "kernelspec": {
      "display_name": "Python 3",
      "name": "python3"
    },
    "language_info": {
      "name": "python"
    }
  },
  "nbformat": 4,
  "nbformat_minor": 0
}