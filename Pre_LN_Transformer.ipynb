{
  "cells": [
    {
      "cell_type": "code",
      "execution_count": null,
      "metadata": {
        "id": "feLUw4U_5Ygs"
      },
      "outputs": [],
      "source": [
        "import torch\n",
        "import torch.nn as nn\n",
        "import torch.nn.functional as F\n",
        "import matplotlib.pyplot as plt"
      ]
    },
    {
      "cell_type": "code",
      "execution_count": null,
      "metadata": {
        "id": "uGFxrfjK6CcU"
      },
      "outputs": [],
      "source": [
        "# Define the model parameters\n",
        "h = 8  # Number of self-attention heads\n",
        "d_k = 64  # Dimensionality of the linearly projected queries and keys # The dimension is divided among the heads.  Thus every head key value will be d_k/h= 8\n",
        "d_v = 64  # Dimensionality of the linearly projected values\n",
        "d_model = 512  # Dimensionality of model layers' outputs\n",
        "d_ff = 2048  # Dimensionality of the inner fully connected layer\n",
        "n = 6  # Number of layers in the encoder stack\n",
        "batch_size = 64\n",
        "beta_1 = 0.9\n",
        "beta_2 = 0.98\n",
        "epsilon = 1e-9\n",
        "dropout_rate = 0.1\n"
      ]
    },
    {
      "cell_type": "code",
      "execution_count": null,
      "metadata": {
        "id": "LON-hvqOAMPj"
      },
      "outputs": [],
      "source": [
        "device= torch.device(\"cuda\" if torch.cuda.is_available() else \"cpu\")"
      ]
    },
    {
      "cell_type": "markdown",
      "metadata": {
        "id": "8IjXJAO858st"
      },
      "source": [
        "# Data"
      ]
    },
    {
      "cell_type": "markdown",
      "source": [
        "Data preprocessing is done with Tensorflow because it is cleaner."
      ],
      "metadata": {
        "id": "JsYkqO7wO18P"
      }
    },
    {
      "cell_type": "code",
      "execution_count": null,
      "metadata": {
        "id": "1tw5UDV4SdhZ"
      },
      "outputs": [],
      "source": [
        "from tensorflow import keras"
      ]
    },
    {
      "cell_type": "code",
      "source": [
        "# Downloading the data"
      ],
      "metadata": {
        "id": "I1erbYKwtr4l"
      },
      "execution_count": null,
      "outputs": []
    },
    {
      "cell_type": "code",
      "source": [
        "import gdown\n",
        "\n",
        "url = f\"https://drive.google.com/uc?id=1Lz7Xjx4iwp_OGBOpO2VnzJoiVk20YbmT\"\n",
        "gdown.download(url, None, quiet=False)"
      ],
      "metadata": {
        "id": "FNh7doFBtehM",
        "outputId": "d1d9f5ef-7daa-438c-9b40-b1d8248c8c30",
        "colab": {
          "base_uri": "https://localhost:8080/",
          "height": 105
        }
      },
      "execution_count": null,
      "outputs": [
        {
          "output_type": "stream",
          "name": "stderr",
          "text": [
            "Downloading...\n",
            "From: https://drive.google.com/uc?id=1Lz7Xjx4iwp_OGBOpO2VnzJoiVk20YbmT\n",
            "To: /content/english-german-both.pkl\n",
            "100%|██████████| 29.6M/29.6M [00:00<00:00, 45.5MB/s]\n"
          ]
        },
        {
          "output_type": "execute_result",
          "data": {
            "text/plain": [
              "'english-german-both.pkl'"
            ],
            "application/vnd.google.colaboratory.intrinsic+json": {
              "type": "string"
            }
          },
          "metadata": {},
          "execution_count": 6
        }
      ]
    },
    {
      "cell_type": "code",
      "execution_count": null,
      "metadata": {
        "id": "n81t31TrSSP9"
      },
      "outputs": [],
      "source": [
        "from pickle import load, dump, HIGHEST_PROTOCOL\n",
        "from numpy.random import shuffle\n",
        "from tensorflow.keras.preprocessing.sequence import pad_sequences\n",
        "from tensorflow import convert_to_tensor, int64\n",
        "\n",
        "class PrepareDataset:\n",
        "    def __init__(self):\n",
        "      # self.n_sentences = 10000 # Number of sentences to include in the dataset\n",
        "      self.train_split = 0.9  # Ratio of the training data split\n",
        "      # self.val_split =  # Ratio of the validation data split\n",
        "-\n",
        "    # Fit a tokenizer\n",
        "    def create_tokenizer(self, dataset):\n",
        "      tokenizer = tensorflow.keras.preprocessing.text.Tokenizer()\n",
        "      tokenizer.fit_on_texts(dataset)\n",
        "\n",
        "      return tokenizer\n",
        "\n",
        "    def find_seq_length(self, dataset):\n",
        "      return max(len(seq.split()) for seq in dataset)\n",
        "\n",
        "    def find_vocab_size(self, tokenizer, dataset):\n",
        "        tokenizer.fit_on_texts(dataset)\n",
        "\n",
        "        return len(tokenizer.word_index) + 1\n",
        "\n",
        "    # Encode and pad the input sequences\n",
        "    def encode_pad(self, dataset, tokenizer, seq_length):\n",
        "        x = tokenizer.texts_to_sequences(dataset)\n",
        "        x = pad_sequences(x, maxlen=seq_length, padding='post')\n",
        "        x = convert_to_tensor(x, dtype=int64)\n",
        "\n",
        "        return x\n",
        "    def load_tokenizer(self, name):\n",
        "        with open(name, 'rb') as handle:\n",
        "            return load(handle)\n",
        "\n",
        "    def save_tokenizer(self, tokenizer, name):\n",
        "        with open(name + '_tokenizer.pkl', 'wb') as handle:\n",
        "            dump(tokenizer, handle, protocol=HIGHEST_PROTOCOL)\n",
        "\n",
        "    def __call__(self, filename, **kwargs):\n",
        "        # Load a clean dataset\n",
        "        dataset = load(open(filename, 'rb'))\n",
        "        n_sentences = len(dataset)\n",
        "\n",
        "        # Include start and end of string tokens\n",
        "        for i in range(dataset[:, 0].size):\n",
        "            dataset[i, 0] = \"<START> \" + dataset[i, 0] + \" <EOS>\"\n",
        "            dataset[i, 1] = \"<START> \" + dataset[i, 1] + \" <EOS>\"\n",
        "\n",
        "        # Random shuffle the dataset\n",
        "        shuffle(dataset)\n",
        "\n",
        "        # Split the dataset in training, validation and test sets\n",
        "        train = dataset[:int(n_sentences * self.train_split)]\n",
        "        val = dataset[int(n_sentences * self.train_split):]\n",
        "        # test = dataset[int(self.n_sentences * (1 - self.val_split)):]\n",
        "\n",
        "        # Prepare tokenizer for the encoder input\n",
        "        enc_tokenizer = self.create_tokenizer(dataset[:, 0])\n",
        "        enc_seq_length = self.find_seq_length(dataset[:, 0])\n",
        "        enc_vocab_size = self.find_vocab_size(enc_tokenizer, train[:, 0])\n",
        "\n",
        "        # Prepare tokenizer for the decoder input\n",
        "        dec_tokenizer = self.create_tokenizer(dataset[:, 1])\n",
        "        dec_seq_length = self.find_seq_length(dataset[:, 1])\n",
        "        dec_vocab_size = self.find_vocab_size(dec_tokenizer, train[:, 1])\n",
        "\n",
        "        # Encode and pad the training input\n",
        "        trainX = self.encode_pad(train[:, 0], enc_tokenizer, enc_seq_length)\n",
        "        trainY = self.encode_pad(train[:, 1], dec_tokenizer, dec_seq_length)\n",
        "\n",
        "        # Encode and pad the validation input\n",
        "        valX = self.encode_pad(val[:, 0], enc_tokenizer, enc_seq_length)\n",
        "        valY = self.encode_pad(val[:, 1], dec_tokenizer, dec_seq_length)\n",
        "\n",
        "        # Save the encoder tokenizer\n",
        "        self.save_tokenizer(enc_tokenizer, 'enc')\n",
        "\n",
        "        # Save the decoder tokenizer\n",
        "        self.save_tokenizer(dec_tokenizer, 'dec')\n",
        "\n",
        "        return trainX, trainY, valX, valY,  enc_seq_length, dec_seq_length, enc_vocab_size, dec_vocab_size"
      ]
    },
    {
      "cell_type": "code",
      "execution_count": null,
      "metadata": {
        "id": "VbV_V4_eDQnx"
      },
      "outputs": [],
      "source": [
        "dataset_manipulator=PrepareDataset()\n",
        "trainX, trainY,valX, valY, enc_seq_len, dec_seq_len, enc_vocab_size, dec_vocab_size = dataset_manipulator('english-german-both.pkl')\n",
        "trainX = torch.tensor(trainX.numpy())  # Convert to PyTorch tensor\n",
        "trainY = torch.tensor(trainY.numpy())  # Convert to PyTorch tensor\n",
        "\n",
        "valX = torch.tensor(valX.numpy())      # Convert to PyTorch tensor\n",
        "valY = torch.tensor(valY.numpy())      # Convert to PyTorch tensor\n",
        "\n",
        "train_dataloader= torch.utils.data.DataLoader(torch.utils.data.TensorDataset(trainX ,trainY), batch_size=batch_size, shuffle=True)\n",
        "val_dataloader= torch.utils.data.DataLoader(torch.utils.data.TensorDataset(valX, valY), batch_size=batch_size, shuffle=True)"
      ]
    },
    {
      "cell_type": "markdown",
      "metadata": {
        "id": "yBG1p6476Fnh"
      },
      "source": [
        "# Model"
      ]
    },
    {
      "cell_type": "markdown",
      "metadata": {
        "id": "5WeCeACR-8l-"
      },
      "source": [
        "## MHA:"
      ]
    },
    {
      "cell_type": "markdown",
      "metadata": {
        "id": "obinSauKrskH"
      },
      "source": [
        " It contains 1) Creation of Q,K,V. 2) subsequent division into n_heads by cutting up dimensionality of model 3) self attention in each head. 4) Then combining the heads back 5) convertion of the model into dimensionality of the model using linear layer."
      ]
    },
    {
      "cell_type": "code",
      "execution_count": null,
      "metadata": {
        "id": "psAR0x64lQHm"
      },
      "outputs": [],
      "source": [
        "class MultiHeadAttention(nn.Module):\n",
        "  def __init__(self, h, d_k,d_v,d_model):\n",
        "    super().__init__()\n",
        "    self.heads= h\n",
        "    self.d_k = d_k # dimensionality of k,q\n",
        "    self.d_v = d_v # dimensionality of Values\n",
        "    self.d_model = d_model # Model dimension ( 512)\n",
        "    self.W_q  = nn.Linear(d_model, d_k) #\n",
        "    self.W_k  = nn.Linear(d_model, d_k)\n",
        "    self.W_v  = nn.Linear(d_model, d_v)\n",
        "    self.W_o  = nn.Linear(d_v, d_model)\n",
        "    # Mask matrix. We make it untrainable. Register buffer will save this matrix too during torch.save()\n",
        "    # self.register_buffer('tril', torch.tril(torch.ones(max_length, max_length)))\n",
        "\n",
        "  def forward(self, queries, keys, values,mask=None):\n",
        "    #1\n",
        "    q= self.W_q(queries)\n",
        "    k= self.W_k(keys)\n",
        "    v= self.W_v(values)\n",
        "    #2\n",
        "    q= self.reshape_tensor(q)\n",
        "    k= self.reshape_tensor(k)\n",
        "    v= self.reshape_tensor(v)\n",
        "    #3\n",
        "    wei = self.attention(q,k,v,self.d_k,mask)\n",
        "    #4\n",
        "    wei = self.reshape_tensor(wei,reverse=True)\n",
        "    #5\n",
        "    return self.W_o(wei)\n",
        "  # We are transforming the linearly transformed into mutli heads. so that you end up with b,h,t,head//2. So you have transpose. not change the dimensionality of matrix.\n",
        "  # We have done for every batch h heads by cuttting up the embed dimension not the time dimension.\n",
        "  def reshape_tensor(self,x,reverse=False):\n",
        "    if not reverse:\n",
        "      b,t,c = x.size()\n",
        "      return x.view(b,t,self.heads,c//self.heads).transpose(1,2)\n",
        "    else:\n",
        "      x= x.transpose(1,2)\n",
        "      return x.contiguous().view(x.shape[0],x.shape[1],self.d_v)\n",
        "# Attention mechanism\n",
        "  def attention(self, q,k,v,d_k,mask=None):\n",
        "    wei = q @ k.transpose(-2,-1) * d_k**-0.5 # (B, T, C) @ (B, C, T) -> (B, T, T)\n",
        "    if mask is not None:\n",
        "      wei += -1e9 *mask\n",
        "    wei = F.softmax(wei, dim=-1) # (B, T, T)\n",
        "    return wei @ v # (B, T, T) @ (B, T, C) -> (B, T, C)"
      ]
    },
    {
      "cell_type": "markdown",
      "metadata": {
        "id": "fk3w2HWksMxa"
      },
      "source": [
        "### Encoder"
      ]
    },
    {
      "cell_type": "markdown",
      "metadata": {
        "id": "-QWWySJCryg4"
      },
      "source": [
        "#### FFNN"
      ]
    },
    {
      "cell_type": "markdown",
      "metadata": {
        "id": "KY4Z79N-6THb"
      },
      "source": [
        "I am going to implement the layernorm and FFNN layer. Layernorm is applied at the end of each sublayer.  FFNN is applied at the end of each encoder and decoder block. FFNN layer is composed of two linear opeartions. It maps to d_ff dim then takes it back. It has a ReLu layer inbetween, not after."
      ]
    },
    {
      "cell_type": "code",
      "execution_count": null,
      "metadata": {
        "id": "DciGOy9M6SDi"
      },
      "outputs": [],
      "source": [
        "class Feed_Forward(nn.Module):\n",
        "  def __init__(self, d_model, d_ff):\n",
        "    super().__init__()\n",
        "    self.net = nn.Sequential(\n",
        "    nn.Linear(d_model, 4 * d_model),\n",
        "    nn.ReLU(),\n",
        "    nn.Linear(4 * d_model,d_model),\n",
        "    )\n",
        "  def forward(self,x):\n",
        "    return self.net(x)\n",
        "class layernorm(nn.Module):\n",
        "  def __init__(self,d_model):\n",
        "    super().__init__()\n",
        "    self.ln=nn.LayerNorm(d_model) # d_model dim is consisten through layers. It fascialltes residual connection as given in forward\n",
        "  def forward(self,x): # Takes in as output the residual connection as well the output of the sublayer.( attention or FFNN) # This is no longer valid for Pre-LN Transformer\n",
        "    return self.ln(x)"
      ]
    },
    {
      "cell_type": "markdown",
      "metadata": {
        "id": "wHA96f-NwFpC"
      },
      "source": [
        "#### Encoder Block"
      ]
    },
    {
      "cell_type": "markdown",
      "metadata": {
        "id": "4_I0TECgvTbK"
      },
      "source": [
        "We also introduce a padding mask, which sets all padded tokens to -infinity. This is similar ot look ahead mask introduced in MHA"
      ]
    },
    {
      "cell_type": "code",
      "execution_count": null,
      "metadata": {
        "id": "s-DJYSLvsL7_"
      },
      "outputs": [],
      "source": [
        "class PositionalEncoding(nn.Module):\n",
        "  def __init__(self, model_dimension,expected_max_sequence_length):\n",
        "      super().__init__()\n",
        "      position_id = torch.arange(0, expected_max_sequence_length).unsqueeze(1)\n",
        "      frequencies = torch.pow(10000., -torch.arange(0, model_dimension, 2, dtype=torch.float) / model_dimension)\n",
        "\n",
        "      positional_encodings_table = torch.zeros(expected_max_sequence_length, model_dimension)\n",
        "      positional_encodings_table[:, 0::2] = torch.sin(position_id * frequencies)  # sine on even positions\n",
        "      positional_encodings_table[:, 1::2] = torch.cos(position_id * frequencies)  # cosine on odd positions\n",
        "      self.register_buffer('positional_encodings_table', positional_encodings_table)\n",
        "\n",
        "  def forward(self, embeddings_batch):\n",
        "      assert embeddings_batch.ndim == 3 and embeddings_batch.shape[-1] == self.positional_encodings_table.shape[1], \\\n",
        "          f'Expected (batch size, max token sequence length, model dimension) got {embeddings_batch.shape}'\n",
        "\n",
        "      positional_encodings = self.positional_encodings_table[:embeddings_batch.shape[1]]\n",
        "      return  positional_encodings\n",
        "\n"
      ]
    },
    {
      "cell_type": "code",
      "execution_count": null,
      "metadata": {
        "id": "3YIqi6tR9OyW"
      },
      "outputs": [],
      "source": [
        "class EncoderBlock(nn.Module):\n",
        "  def __init__(self,h,d_k,d_v,d_model,rate):\n",
        "    super().__init__()\n",
        "    self.MHA = MultiHeadAttention(h,d_k,d_v,d_model)\n",
        "    self.dropout1= nn.Dropout(rate)\n",
        "    self.layernorm1= layernorm(d_model)\n",
        "    self.Feed_Forward= Feed_Forward(d_model,d_ff)\n",
        "    self.layernorm2= layernorm(d_model)\n",
        "    self.dropout2 = nn.Dropout(rate)\n",
        "  def forward(self,x,padding_mask=None):\n",
        "    x_sideline= self.layernorm1(x)\n",
        "    x = x+ self.dropout1(self.MHA(x_sideline,x_sideline,x_sideline,padding_mask))\n",
        "    x_sideline1= self.layernorm2(x) # mha->dropout-> residual -> layer\n",
        "    x = x+ self.dropout2(self.Feed_Forward(x_sideline1))  #FFNN->dropout-> residual -> layer\n",
        "    return x"
      ]
    },
    {
      "cell_type": "markdown",
      "metadata": {
        "id": "xSM5fsG33Hdu"
      },
      "source": [
        "Add a dropout layer after positionalencoding."
      ]
    },
    {
      "cell_type": "code",
      "execution_count": null,
      "metadata": {
        "id": "4OVFAx9E2RzP"
      },
      "outputs": [],
      "source": [
        "class Encoder(nn.Module):\n",
        "  def __init__(self,vocab_size,max_length,d_model,h,d_k,d_v,d_ff, n_layers,rate):\n",
        "    super().__init__()\n",
        "    self.embedding = nn.Embedding(vocab_size, d_model)\n",
        "    self.positional_encoding = PositionalEncoding(d_model, max_length)\n",
        "    self.dropout = nn.Dropout(rate)\n",
        "    self.layers = nn.ModuleList([EncoderBlock(h,d_k,d_v,d_model,rate) for _ in range(n_layers)])\n",
        "\n",
        "  def forward(self,sentence, padding_mask):\n",
        "    x = self.embedding(sentence)\n",
        "    x = x + self.positional_encoding(x)\n",
        "    x = self.dropout(x)\n",
        "    for layer in self.layers:\n",
        "      x = layer(x, padding_mask)\n",
        "    return x"
      ]
    },
    {
      "cell_type": "markdown",
      "metadata": {
        "id": "erroxYiUIA8_"
      },
      "source": [
        "## Decoder"
      ]
    },
    {
      "cell_type": "markdown",
      "metadata": {
        "id": "_TH26YYMQObu"
      },
      "source": [
        "So, the structure goes as below.\n",
        " MHA -> dropout-> residual norm\n",
        " MHA2(Cross attention) -> dropout -> residual norm\n",
        " FF -> dropout -> residual norm."
      ]
    },
    {
      "cell_type": "code",
      "execution_count": null,
      "metadata": {
        "id": "FFhvCrVDI0ni"
      },
      "outputs": [],
      "source": [
        "class DecoderBlock(nn.Module):\n",
        "  def __init__(self,h,d_k,d_v,d_model,d_ff,rate):\n",
        "    super().__init__()\n",
        "    self.MHA = MultiHeadAttention(h,d_k,d_v,d_model)\n",
        "    self.dropout1= nn.Dropout(rate)\n",
        "    self.add_norm = layernorm(d_model)\n",
        "    self.MHA2 = MultiHeadAttention(h,d_k,d_v,d_model)\n",
        "    self.dropout2= nn.Dropout(rate)\n",
        "    self.add_norm2 = layernorm(d_model)\n",
        "    self.Feed_Forward= Feed_Forward(d_model,d_ff)\n",
        "    self.dropout3= nn.Dropout(rate)\n",
        "    self.add_norm3 = layernorm(d_model)\n",
        "\n",
        "  def forward(self,x,encoder_output,padding_mask=None,look_ahead_mask=None):\n",
        "    x_sideline= self.add_norm(x)\n",
        "    x = x+ self.dropout1(self.MHA(x_sideline,x_sideline,x_sideline,look_ahead_mask))\n",
        "    x_sideline1= self.add_norm2(x)\n",
        "    x = x+ self.dropout2(self.MHA2(x_sideline1,encoder_output,encoder_output,padding_mask)) # Enocoder output because cross attention. Padding mask because keys and values are from encoder. We do not use look_ahead_mask.\n",
        "    x_sideline2= self.add_norm3(x)\n",
        "    x = x+ self.dropout3(self.Feed_Forward(x_sideline2))\n",
        "    return x"
      ]
    },
    {
      "cell_type": "code",
      "execution_count": null,
      "metadata": {
        "id": "czSA5NY6P8fL"
      },
      "outputs": [],
      "source": [
        "class Decoder(nn.Module):\n",
        "  def __init__(self,vocab_size,max_length, d_model,h,d_k,d_v,d_ff,n_layers,rate):\n",
        "    super().__init__()\n",
        "    self.embedding= nn.Embedding(vocab_size,d_model)\n",
        "    self.positional_encoding = PositionalEncoding(d_model, max_length)\n",
        "    self.dropout = nn.Dropout(rate)\n",
        "    self.layers = nn.ModuleList([DecoderBlock(h,d_k,d_v,d_model,d_ff,rate) for _ in range(n_layers)])\n",
        "  def forward(self,decoder_input,encoder_output,lookahead_mask,padding_mask):\n",
        "    x = self.embedding(decoder_input)\n",
        "    x = x + self.positional_encoding(x)\n",
        "    x = self.dropout(x)\n",
        "    for layer in self.layers:\n",
        "      x = layer(x,encoder_output,padding_mask,lookahead_mask)\n",
        "    return x"
      ]
    },
    {
      "cell_type": "markdown",
      "metadata": {
        "id": "JYe_oWOCR7MI"
      },
      "source": [
        "## Transformer"
      ]
    },
    {
      "cell_type": "code",
      "execution_count": null,
      "metadata": {
        "id": "W0f2INpoO5eW"
      },
      "outputs": [],
      "source": [
        "class Transformer(nn.Module):\n",
        "  def __init__(self,enc_vocab_size,dec_vocab_size,enc_seq_len,dec_seq_len,d_model,h,d_k,d_v,d_ff,n_layers,rate):\n",
        "    super().__init__()\n",
        "    self.encoder = Encoder(enc_vocab_size,enc_seq_len,d_model,h,d_k,d_v,d_ff, n_layers,rate)\n",
        "    self.decoder = Decoder(dec_vocab_size,dec_seq_len,d_model,h,d_k,d_v,d_ff,n_layers,rate)\n",
        "    self.model_output = nn.Linear(d_model,dec_vocab_size) #converting d_model to dec_vocab_size)\n",
        "    self.init_weights()\n",
        "  def init_weights(self):\n",
        "    for p in self.parameters():\n",
        "      if p.dim() > 1:\n",
        "        nn.init.xavier_uniform_(p)\n",
        "  def forward(self,encoder_input,decoder_input):\n",
        "    padding_mask_enc   = self.padding_mask(encoder_input)\n",
        "    padding_mask_dec   = self.padding_mask(decoder_input)\n",
        "    lookahead_mask_dec = self.look_ahead_mask(decoder_input.shape[1])\n",
        "    lookahead_mask_dec = torch.maximum(lookahead_mask_dec,padding_mask_dec) # important. Here we are using look_ahead_mask and padding_mask. Padding Mask is in relation with the decoder input. not the encoder input.\n",
        "    encoder_output     = self.encoder(encoder_input,padding_mask_enc)\n",
        "    decoder_output     = self.decoder(decoder_input,encoder_output,lookahead_mask_dec,padding_mask_enc)\n",
        "    return self.model_output(decoder_output)\n",
        "  def padding_mask(self,x): # Changes the values to 1 from 0. Where zero is pad vocab\n",
        "    x=(x==0).float()\n",
        "    x=x.type(torch.float32)\n",
        "    return x[:,None,None,:]\n",
        "\n",
        "  def look_ahead_mask(self,shape):\n",
        "    x=torch.triu(torch.ones((shape,shape),device=device),diagonal=1)\n",
        "    return x.type(torch.float32)"
      ]
    },
    {
      "cell_type": "markdown",
      "metadata": {
        "id": "tLRAMWAe1BBX"
      },
      "source": [
        "# Training"
      ]
    },
    {
      "cell_type": "markdown",
      "metadata": {
        "id": "nXE67uELMDs4"
      },
      "source": [
        "## Functions"
      ]
    },
    {
      "cell_type": "code",
      "execution_count": null,
      "metadata": {
        "id": "69cMCX3xbtTq"
      },
      "outputs": [],
      "source": [
        "import torch\n",
        "import torch.nn.functional as F\n",
        "import nltk\n",
        "from nltk.translate.bleu_score import sentence_bleu, SmoothingFunction\n",
        "\n",
        "def loss_fcn(target, prediction):\n",
        "  padding_mask = (target != 0).float()\n",
        "  loss = F.cross_entropy(prediction, target, reduction='none',label_smoothing=0.1) * padding_mask # reduction none returns values every seq length. Otherwise will return a mean scalar.\n",
        "  # Compute the mean loss over the unmasked values\n",
        "  return loss.sum() / padding_mask.sum()\n",
        "\n",
        "def accuracy_fcn(target, prediction):\n",
        "    padding_mask = (target != 0)\n",
        "    accuracy = (target == torch.argmax(prediction, dim=2))\n",
        "    accuracy = padding_mask & accuracy # And operation. If padding mask is 0 ( padded accuracy is not counted)\n",
        "    padding_mask = padding_mask.float()\n",
        "    accuracy = accuracy.float()\n",
        "    # Compute the mean accuracy over the unmasked values\n",
        "    return accuracy.sum() / padding_mask.sum()\n",
        "\n",
        "from nltk.translate.bleu_score import sentence_bleu, SmoothingFunction\n",
        "\n",
        "def BLEU(reference, candidate, pad_token=0):\n",
        "    # Smoothing function (using method6)\n",
        "    smooth_fn = SmoothingFunction().method4\n",
        "    eos = dec_tokenizer.word_index['eos']\n",
        "\n",
        "    # Remove padding and <eos> tokens from reference and candidate sequences\n",
        "    candidate = [[word for word in sent if word not in [pad_token, eos]] for sent in candidate]\n",
        "    reference = [[word for word in sent if word not in [pad_token, eos]] for sent in reference]\n",
        "\n",
        "    bleu_score = 0\n",
        "    bleu_scores = []  # Store individual BLEU scores for debugging\n",
        "\n",
        "    # Compute BLEU score for each sentence in the batch\n",
        "    for cand, ref in zip(candidate, reference):\n",
        "      for i in range(len(cand)):\n",
        "        cand[i] = cand[i].item()\n",
        "      for i in range(len(ref)):\n",
        "        ref[i] = ref[i].item()\n",
        "      score = sentence_bleu([ref],cand, smoothing_function=smooth_fn)\n",
        "      bleu_scores.append(score)\n",
        "      bleu_score += score\n",
        "\n",
        "    # Return average BLEU score over all sentences in the batch\n",
        "    return bleu_score / len(candidate)\n",
        "\n"
      ]
    },
    {
      "cell_type": "code",
      "execution_count": null,
      "metadata": {
        "id": "GckGmILr07fP"
      },
      "outputs": [],
      "source": [
        "import torch\n",
        "from torch.optim.lr_scheduler import _LRScheduler\n",
        "import math\n",
        "\n",
        "class LRScheduler(_LRScheduler):\n",
        "  def __init__(self, optimizer, d_model, warmup_steps=150, last_epoch=-1):\n",
        "    self.d_model = d_model\n",
        "    self.warmup_steps = warmup_steps\n",
        "    super(LRScheduler, self).__init__(optimizer, last_epoch)\n",
        "\n",
        "  def get_lr(self):\n",
        "  # Get the current step number\n",
        "    step_num = max(1, self._step_count)\n",
        "\n",
        "    # Linearly increasing the learning rate for the first warmup_steps, and decreasing it thereafter\n",
        "    arg1 = step_num ** -0.5\n",
        "    arg2 = step_num * (self.warmup_steps ** -1.5)\n",
        "\n",
        "    # Compute the learning rate according to the schedule\n",
        "    lr = (self.d_model ** -0.5) * min(arg1, arg2)\n",
        "\n",
        "    return [lr for _ in self.optimizer.param_groups]\n",
        "\n",
        "class NoWarmupLRScheduler(_LRScheduler):\n",
        "    def __init__(self, optimizer, initial_lr=5e-4, decay_epoch=8, decay_factor=0.1, last_epoch=-1):\n",
        "        self.initial_lr = initial_lr\n",
        "        self.decay_epoch = decay_epoch\n",
        "        self.decay_factor = decay_factor\n",
        "        super(NoWarmupLRScheduler, self).__init__(optimizer, last_epoch)\n",
        "\n",
        "    def get_lr(self):\n",
        "        # Get the current epoch\n",
        "        epoch = self.last_epoch + 1\n",
        "\n",
        "        # If we are past the decay_epoch, apply the decay factor\n",
        "        if epoch >= self.decay_epoch:\n",
        "            lr = self.initial_lr * (self.decay_factor ** (epoch - self.decay_epoch + 1))\n",
        "        else:\n",
        "            lr = self.initial_lr\n",
        "\n",
        "        # Return the updated learning rates for all parameter groups\n",
        "        return [lr for _ in self.optimizer.param_groups]\n"
      ]
    },
    {
      "cell_type": "code",
      "execution_count": null,
      "metadata": {
        "id": "ZnSDvfIfM-eI"
      },
      "outputs": [],
      "source": [
        "import matplotlib.pyplot as plt\n",
        "import torch\n",
        "\n",
        "class Model_worker:\n",
        "  def __init__(self, model, scheduler, optimizer, loss_fn, accuracy_fn, device, dec_vocab_size):\n",
        "    self.model = model\n",
        "    self.scheduler = scheduler(optimizer)\n",
        "    self.optimizer = optimizer\n",
        "    self.loss_fn = loss_fn\n",
        "    self.accuracy_fn = accuracy_fn\n",
        "    self.device = device\n",
        "    self.dec_vocab_size = dec_vocab_size\n",
        "    self.epochs_done = 0\n",
        "\n",
        "  def train_epoch(self, train_dataloader, BLEU):\n",
        "    self.model.train()\n",
        "    loss_list = []\n",
        "    bleu_list = []\n",
        "\n",
        "    for step, (i, j) in enumerate(train_dataloader):\n",
        "      i, j = i.to(self.device), j.to(self.device)\n",
        "      dec_input = j[:, :-1]\n",
        "      target = j[:, 1:]\n",
        "\n",
        "      # Forward pass\n",
        "      prediction = self.model(i, dec_input)\n",
        "      loss = self.loss_fn(target.reshape(-1), prediction.reshape(-1, self.dec_vocab_size))\n",
        "      accuracy = self.accuracy_fn(target, prediction)\n",
        "\n",
        "      # Backpropagation and optimization\n",
        "      self.optimizer.zero_grad()\n",
        "      loss.backward()\n",
        "      self.optimizer.step()\n",
        "      # Store loss and BLEU score\n",
        "      loss_list.append(loss.item())\n",
        "      bleu_list.append(BLEU(target, prediction.argmax(dim=-1)))\n",
        "\n",
        "      # Print every 10 steps\n",
        "      print( f\"\\rEpoch: {self.epochs_done+1} | Step {step} | Average Loss: {sum(loss_list) / len(loss_list):.5f} Average BLEU Score: {sum(bleu_list) / len(bleu_list):.5f}\",end=\"\")\n",
        "\n",
        "    # Plot training loss\n",
        "    if PLOT:\n",
        "      plt.plot(loss_list)\n",
        "      plt.xlabel('batch')\n",
        "      plt.ylabel('Loss')\n",
        "      plt.title('Loss vs batch')\n",
        "      plt.show()\n",
        "\n",
        "    self.scheduler.step()\n",
        "    self.epochs_done += 1\n",
        "    return sum(loss_list) / len(loss_list), sum(bleu_list) / len(bleu_list)\n",
        "\n",
        "  def validate(self, val_dataloader, BLEU):\n",
        "    self.model.eval()\n",
        "    val_loss_list = []\n",
        "    val_bleu_list = []\n",
        "\n",
        "    with torch.no_grad():\n",
        "      for i, j in val_dataloader:\n",
        "        i, j = i.to(self.device), j.to(self.device)\n",
        "        dec_input = j[:, :-1]\n",
        "        target = j[:, 1:]\n",
        "\n",
        "        # Forward pass\n",
        "        prediction = self.model(i, dec_input)\n",
        "\n",
        "        # Calculate validation loss and BLEU score\n",
        "        val_loss = self.loss_fn(target.reshape(-1), prediction.reshape(-1, self.dec_vocab_size))\n",
        "        val_bleu = BLEU(target, prediction.argmax(dim=-1))\n",
        "\n",
        "        val_loss_list.append(val_loss.item())\n",
        "        val_bleu_list.append(val_bleu)\n",
        "\n",
        "    return sum(val_loss_list) / len(val_loss_list), sum(val_bleu_list) / len(val_bleu_list)\n",
        "\n",
        "  def train_and_validate(self, train_dataloader, val_dataloader, BLEU, num_epochs):\n",
        "    lossi = []\n",
        "    bleui = []\n",
        "\n",
        "    val_loss, val_bleu = self.validate(val_dataloader, BLEU)\n",
        "    print(f\"Validation Loss before training: {val_loss:.5f}\")\n",
        "\n",
        "    for epoch in range(num_epochs):\n",
        "      # print(f\"Epoch {epoch}\")\n",
        "      # Training\n",
        "      avg_loss, avg_bleu = self.train_epoch(train_dataloader, BLEU)\n",
        "\n",
        "      lossi.append(avg_loss)\n",
        "      bleui.append(avg_bleu)\n",
        "\n",
        "      # print(f\"Epoch {epoch} | Average Loss: {avg_loss}\")\n",
        "      # print(f\"Epoch {epoch} | Average BLEU Score: {avg_bleu}\")\n",
        "\n",
        "      # Validation\n",
        "      val_loss, val_bleu = self.validate(val_dataloader, BLEU)\n",
        "      print(f\"\\n Validation Loss: {val_loss:.5f} |  Validation BLEU Score {val_bleu:.5f}\")\n",
        "\n",
        "    return lossi, bleui\n",
        "\n",
        "  def inference(self, eng_sentence, enc_seq_len, dec_seq_len, enc_tokenizer, dec_tokenizer,model= None):\n",
        "    if model== None:\n",
        "      model=self.model\n",
        "    eng_tokens = enc_tokenizer.texts_to_sequences([\"<START>\" + eng_sentence + \"<EOS>\"])\n",
        "    enc_input = pad_sequences(eng_tokens, maxlen=enc_seq_len, padding='post')\n",
        "    enc_input = torch.tensor(enc_input).int().to(self.device)\n",
        "    dec_start = torch.tensor(dec_tokenizer.texts_to_sequences(['<START>'])).to(self.device)\n",
        "    dec_end = torch.tensor(dec_tokenizer.texts_to_sequences(['<EOS>'])).to(self.device)\n",
        "\n",
        "    model.eval()\n",
        "    for _ in range(dec_seq_len):\n",
        "        with torch.no_grad():\n",
        "            prediction = model(enc_input, dec_start)\n",
        "\n",
        "        predicted_token = prediction[0, :].argmax(dim=-1)[-1]  # batch=1, so index first dimension\n",
        "\n",
        "        if predicted_token == dec_end:\n",
        "            break\n",
        "\n",
        "        dec_start = torch.cat([dec_start, torch.tensor([[predicted_token]]).to(self.device)], dim=1)  # input to transformer as [Batch, time]\n",
        "    model.train()\n",
        "\n",
        "    return dec_tokenizer.sequences_to_texts(dec_start.cpu().numpy())\n"
      ]
    },
    {
      "cell_type": "markdown",
      "metadata": {
        "id": "Zqv7yJ4Gy_-n"
      },
      "source": [
        "## Training\n"
      ]
    },
    {
      "cell_type": "code",
      "source": [
        "PLOT= False # Plots loss after every epoch\n",
        "device= torch.device('cuda' if torch.cuda.is_available() else 'cpu')\n",
        "dec_tokenizer=PrepareDataset().load_tokenizer('dec_tokenizer.pkl')\n",
        "enc_tokenizer=PrepareDataset().load_tokenizer('enc_tokenizer.pkl')"
      ],
      "metadata": {
        "id": "QUCTxvgqOg06"
      },
      "execution_count": null,
      "outputs": []
    },
    {
      "cell_type": "code",
      "execution_count": null,
      "metadata": {
        "id": "p9rT0Qi7zDyM"
      },
      "outputs": [],
      "source": [
        "num_epochs=15\n",
        "lossi=[]\n",
        "bleui=[]"
      ]
    },
    {
      "cell_type": "code",
      "source": [
        "model=Transformer(enc_vocab_size,dec_vocab_size,enc_seq_len,dec_seq_len,d_model,h,d_k,d_v,d_ff,n,dropout_rate)\n",
        "model.to(device)\n",
        "optimizer = torch.optim.Adam(model.parameters(), lr=1e-9, betas=(0.9, 0.98), eps=1e-9)\n",
        "model_worker = Model_worker(model, NoWarmupLRScheduler, optimizer, loss_fcn, accuracy_fcn, device, dec_vocab_size)"
      ],
      "metadata": {
        "id": "L6o4hJhvIypC"
      },
      "execution_count": null,
      "outputs": []
    },
    {
      "cell_type": "code",
      "execution_count": null,
      "metadata": {
        "colab": {
          "base_uri": "https://localhost:8080/"
        },
        "id": "iclSnl6BzN3W",
        "outputId": "e436574a-699b-4e9c-9acf-3a9a68dadf3c"
      },
      "outputs": [
        {
          "output_type": "stream",
          "name": "stdout",
          "text": [
            "Validation Loss before training: 10.64588\n",
            "Epoch: 1 | Step 140 | Average Loss: 6.45020 Average BLEU Score: 0.01661\n",
            " Validation Loss: 5.16546 |  Validation BLEU Score 0.02977\n",
            "Epoch: 2 | Step 140 | Average Loss: 4.97491 Average BLEU Score: 0.04347\n",
            " Validation Loss: 4.70560 |  Validation BLEU Score 0.05651\n",
            "Epoch: 3 | Step 140 | Average Loss: 4.52546 Average BLEU Score: 0.06369\n",
            " Validation Loss: 4.34252 |  Validation BLEU Score 0.08203\n",
            "Epoch: 4 | Step 140 | Average Loss: 4.15976 Average BLEU Score: 0.08638\n",
            " Validation Loss: 4.08670 |  Validation BLEU Score 0.10748\n",
            "Epoch: 5 | Step 140 | Average Loss: 3.85394 Average BLEU Score: 0.10470\n",
            " Validation Loss: 3.82569 |  Validation BLEU Score 0.12709\n",
            "Epoch: 6 | Step 140 | Average Loss: 3.57685 Average BLEU Score: 0.12358\n",
            " Validation Loss: 3.72186 |  Validation BLEU Score 0.13460\n",
            "Epoch: 7 | Step 140 | Average Loss: 3.34003 Average BLEU Score: 0.13888\n",
            " Validation Loss: 3.57350 |  Validation BLEU Score 0.15526\n",
            "Epoch: 8 | Step 140 | Average Loss: 2.87656 Average BLEU Score: 0.18233\n",
            " Validation Loss: 3.44660 |  Validation BLEU Score 0.17579\n",
            "Epoch: 9 | Step 140 | Average Loss: 2.72992 Average BLEU Score: 0.19978\n",
            " Validation Loss: 3.43592 |  Validation BLEU Score 0.17770\n",
            "Epoch: 10 | Step 140 | Average Loss: 2.71616 Average BLEU Score: 0.20404\n",
            " Validation Loss: 3.44724 |  Validation BLEU Score 0.17996\n",
            "Epoch: 11 | Step 140 | Average Loss: 2.71211 Average BLEU Score: 0.20380\n",
            " Validation Loss: 3.43675 |  Validation BLEU Score 0.17921\n",
            "Epoch: 12 | Step 140 | Average Loss: 2.71454 Average BLEU Score: 0.20392\n",
            " Validation Loss: 3.44828 |  Validation BLEU Score 0.17946\n",
            "Epoch: 13 | Step 140 | Average Loss: 2.71198 Average BLEU Score: 0.20432\n",
            " Validation Loss: 3.43322 |  Validation BLEU Score 0.17986\n",
            "Epoch: 14 | Step 140 | Average Loss: 2.71163 Average BLEU Score: 0.20413\n",
            " Validation Loss: 3.42930 |  Validation BLEU Score 0.18084\n",
            "Epoch: 15 | Step 140 | Average Loss: 2.71309 Average BLEU Score: 0.20111\n",
            " Validation Loss: 3.42673 |  Validation BLEU Score 0.18112\n"
          ]
        },
        {
          "output_type": "execute_result",
          "data": {
            "text/plain": [
              "([6.450203334186094,\n",
              "  4.974907563933244,\n",
              "  4.525460845189737,\n",
              "  4.159761575942344,\n",
              "  3.8539394757426377,\n",
              "  3.5768465403969407,\n",
              "  3.3400316864040724,\n",
              "  2.8765583139784794,\n",
              "  2.7299212716149945,\n",
              "  2.7161618936146406,\n",
              "  2.71211166246563,\n",
              "  2.714544291191913,\n",
              "  2.711975598166175,\n",
              "  2.7116286365698414,\n",
              "  2.7130894999132087],\n",
              " [0.016606476089121698,\n",
              "  0.043465538520529666,\n",
              "  0.06368750349208317,\n",
              "  0.08638404214089297,\n",
              "  0.1046955337765527,\n",
              "  0.12357787057297435,\n",
              "  0.1388808982089483,\n",
              "  0.18232569240566693,\n",
              "  0.19977963299512164,\n",
              "  0.2040423522218256,\n",
              "  0.2037984235459456,\n",
              "  0.20392255589002678,\n",
              "  0.20431924485778924,\n",
              "  0.20413085622631105,\n",
              "  0.20110723424708132])"
            ]
          },
          "metadata": {},
          "execution_count": 25
        }
      ],
      "source": [
        "model_worker.train_and_validate(train_dataloader, val_dataloader, BLEU, num_epochs)"
      ]
    },
    {
      "cell_type": "markdown",
      "metadata": {
        "id": "hWKRz9JONa8v"
      },
      "source": [
        "# Plotting"
      ]
    },
    {
      "cell_type": "code",
      "source": [
        "plt.plot(train_Loss, label='Training Loss')\n",
        "plt.plot(val_loss, label='Validation Loss')\n",
        "# plt.plot(val_bleu, label='Validation BLEU')\n",
        "plt.xlabel('Epoch')\n",
        "plt.ylabel('Loss')\n",
        "plt.title('Loss vs Epoch')\n",
        "plt.legend()\n",
        "plt.show()"
      ],
      "metadata": {
        "colab": {
          "base_uri": "https://localhost:8080/",
          "height": 472
        },
        "id": "0IMabr-y2glQ",
        "outputId": "fe2794fd-f675-4862-f73e-78b51e73ff76"
      },
      "execution_count": null,
      "outputs": [
        {
          "output_type": "display_data",
          "data": {
            "text/plain": [
              "<Figure size 640x480 with 1 Axes>"
            ],
            "image/png": "[encoded data removed]"
          },
          "metadata": {}
        }
      ]
    },
    {
      "cell_type": "code",
      "source": [
        "plt.plot(train_BLEU, label='Training BLEU')\n",
        "plt.plot(val_bleu, label=' Validation BLEU')\n",
        "# plt.plot(val_bleu, label='Validation BLEU')\n",
        "plt.xlabel('Epoch')\n",
        "plt.ylabel('BLEU')\n",
        "plt.title('BLEU vs Epoch')\n",
        "plt.legend()\n",
        "plt.show()"
      ],
      "metadata": {
        "colab": {
          "base_uri": "https://localhost:8080/",
          "height": 472
        },
        "id": "tPCLcHX54tnZ",
        "outputId": "5606e532-2f6f-4f99-e25b-b0aee456faf8"
      },
      "execution_count": null,
      "outputs": [
        {
          "output_type": "display_data",
          "data": {
            "text/plain": [
              "<Figure size 640x480 with 1 Axes>"
            ],
            "image/png": "[encoded data removed]"
          },
          "metadata": {}
        }
      ]
    },
    {
      "cell_type": "markdown",
      "source": [
        "# Inference"
      ],
      "metadata": {
        "id": "aaCKRcA4Cp2D"
      }
    },
    {
      "cell_type": "code",
      "execution_count": null,
      "metadata": {
        "colab": {
          "base_uri": "https://localhost:8080/"
        },
        "id": "etYfJcFf811G",
        "outputId": "2f554759-4c33-4ce1-9b6f-2ec7b1ac90a7"
      },
      "outputs": [
        {
          "output_type": "execute_result",
          "data": {
            "text/plain": [
              "['start was geht es gut']"
            ]
          },
          "metadata": {},
          "execution_count": 260
        }
      ],
      "source": [
        "model_worker.inference('what are you doing',enc_seq_len,dec_seq_len,enc_tokenizer,dec_tokenizer)"
      ]
    }
  ],
  "metadata": {
    "colab": {
      "collapsed_sections": [
        "8IjXJAO858st",
        "yBG1p6476Fnh",
        "nXE67uELMDs4"
      ],
      "provenance": []
    },
    "kernelspec": {
      "display_name": "Python 3",
      "name": "python3"
    },
    "language_info": {
      "name": "python"
    }
  },
  "nbformat": 4,
  "nbformat_minor": 0
}